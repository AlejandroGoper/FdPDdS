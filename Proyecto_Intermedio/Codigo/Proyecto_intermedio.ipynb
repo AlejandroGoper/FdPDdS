{
 "metadata": {
  "language_info": {
   "codemirror_mode": {
    "name": "ipython",
    "version": 3
   },
   "file_extension": ".py",
   "mimetype": "text/x-python",
   "name": "python",
   "nbconvert_exporter": "python",
   "pygments_lexer": "ipython3",
   "version": "3.8.5-final"
  },
  "orig_nbformat": 2,
  "kernelspec": {
   "name": "python385jvsc74a57bd08d5af786ff45d0b0a33f8d2f07da2f52583a9f20d04f38e5bd3f4a86fa7df438",
   "display_name": "Python 3.8.5 64-bit ('base': conda)"
  }
 },
 "nbformat": 4,
 "nbformat_minor": 2,
 "cells": [
  {
   "source": [
    "# Proyecto Intermedio:  Parte 1\n",
    "\n",
    "## Localización de señales $F_{1}$ y $F_{2}$"
   ],
   "cell_type": "markdown",
   "metadata": {}
  },
  {
   "cell_type": "code",
   "execution_count": 1,
   "metadata": {},
   "outputs": [],
   "source": [
    "%matplotlib inline\n",
    "#Para leer los archivos de matlab\n",
    "from scipy.io import loadmat,whosmat\n",
    "#Para fft\n",
    "from numpy.fft import fft,fftshift,ifftshift\n",
    "#Para calculo numérico\n",
    "from numpy import arange,cos,abs,angle,pi,floor,array,where\n",
    "# Para graficar\n",
    "import matplotlib.pyplot as plt"
   ]
  },
  {
   "source": [
    "## Importando los archivos de matlab a variables manejables en python"
   ],
   "cell_type": "markdown",
   "metadata": {}
  },
  {
   "cell_type": "code",
   "execution_count": 2,
   "metadata": {},
   "outputs": [
    {
     "output_type": "execute_result",
     "data": {
      "text/plain": [
       "[('Data', (1, 5760000), 'double'), ('fs', (1, 1), 'double')]"
      ]
     },
     "metadata": {},
     "execution_count": 2
    }
   ],
   "source": [
    "#Con este comando sabemos el identificador de la variable, su dimensión y su tipo\n",
    "whosmat(\"../Archive/2_Datos.mat\")"
   ]
  },
  {
   "cell_type": "code",
   "execution_count": 3,
   "metadata": {},
   "outputs": [],
   "source": [
    "archivo = loadmat(\"../Archive/2_Datos.mat\")\n",
    "data = array(archivo[\"Data\"])\n",
    "senal = data[0]\n",
    "fs =  float(archivo[\"fs\"])"
   ]
  },
  {
   "source": [
    "### Frecuencia de muestreo"
   ],
   "cell_type": "markdown",
   "metadata": {}
  },
  {
   "cell_type": "code",
   "execution_count": 4,
   "metadata": {},
   "outputs": [
    {
     "output_type": "stream",
     "name": "stdout",
     "text": [
      "fs = 96000.0\n"
     ]
    }
   ],
   "source": [
    "print(f\"fs = {fs}\")"
   ]
  },
  {
   "source": [
    "## Aplicando fft a la señal de entrada"
   ],
   "cell_type": "markdown",
   "metadata": {}
  },
  {
   "cell_type": "code",
   "execution_count": 5,
   "metadata": {},
   "outputs": [],
   "source": [
    "fft_senal = fft(senal)"
   ]
  },
  {
   "cell_type": "code",
   "execution_count": 6,
   "metadata": {},
   "outputs": [],
   "source": [
    "# Importando las subrutinas realizadas en clase para manejo de la fft\n",
    "from calcVectFrec import calcVecFrec\n",
    "from calculaVerdaderaAmplitud import calculaVerdaderaAmplitud\n",
    "amplitud_fft = calculaVerdaderaAmplitud(fft_senal)\n",
    "vfrec = calcVecFrec(senal,1/fs)"
   ]
  },
  {
   "source": [
    "## Primer maximo"
   ],
   "cell_type": "markdown",
   "metadata": {}
  },
  {
   "cell_type": "code",
   "execution_count": 7,
   "metadata": {},
   "outputs": [
    {
     "output_type": "stream",
     "name": "stdout",
     "text": [
      "(array([500000]),)\n"
     ]
    }
   ],
   "source": [
    "indice = where(max(amplitud_fft) == amplitud_fft)\n",
    "print(indice)"
   ]
  },
  {
   "cell_type": "code",
   "execution_count": 8,
   "metadata": {},
   "outputs": [
    {
     "output_type": "stream",
     "name": "stdout",
     "text": [
      "[8333.33333333]\n"
     ]
    }
   ],
   "source": [
    "print(vfrec[indice])\n",
    "f1 = vfrec[indice]"
   ]
  },
  {
   "source": [
    "## Segundo máximo"
   ],
   "cell_type": "markdown",
   "metadata": {}
  },
  {
   "cell_type": "code",
   "execution_count": 9,
   "metadata": {},
   "outputs": [
    {
     "output_type": "stream",
     "name": "stdout",
     "text": [
      "8343.333333333334 8323.333333333334\n[10000.] [0.00468797]\n[120.] [0.00330773]\n"
     ]
    }
   ],
   "source": [
    "tol_frec = 10 # comenzara a buscar en +-10 en espacio de frecuencia luego del maximo global\n",
    "lim_sup_vfreq = vfrec[indice] + tol_frec\n",
    "lim_inf_vfreq = vfrec[indice] - tol_frec\n",
    "ind_sup = where(vfrec == lim_sup_vfreq)\n",
    "ind_inf = where(vfrec == lim_inf_vfreq)\n",
    "ind_sup = int(ind_sup[0])\n",
    "ind_inf = int(ind_inf[0])\n",
    "print(vfrec[ind_sup],vfrec[ind_inf])\n",
    "new_ind_max_sup = where(amplitud_fft[ind_sup:]==max(amplitud_fft[ind_sup:]))\n",
    "new_ind_max_inf = where(amplitud_fft[:ind_inf] == max(amplitud_fft[:ind_inf]))\n",
    "new_ind_max_sup = new_ind_max_sup[0] + ind_sup\n",
    "new_ind_max_inf = new_ind_max_inf[0]\n",
    "print(vfrec[new_ind_max_sup],amplitud_fft[new_ind_max_sup])\n",
    "print(vfrec[new_ind_max_inf],amplitud_fft[new_ind_max_inf])\n",
    "if( amplitud_fft[new_ind_max_sup] > amplitud_fft[new_ind_max_inf] ):\n",
    "    f2 = vfrec[new_ind_max_sup]\n",
    "else:\n",
    "    f2 = vfrec[new_ind_max_inf]\n",
    "if(f1 > f2):\n",
    "    F2 = f1\n",
    "    F1 = f2\n",
    "else:\n",
    "    F2 = f2\n",
    "    F1 = f1"
   ]
  },
  {
   "cell_type": "code",
   "execution_count": 10,
   "metadata": {},
   "outputs": [
    {
     "output_type": "stream",
     "name": "stdout",
     "text": [
      "Frecuencias encontradas: \n F1 = [8333.33333333]\n F2 = [10000.]\n"
     ]
    }
   ],
   "source": [
    "print(f\"Frecuencias encontradas: \\n F1 = {F1}\\n F2 = {F2}\")"
   ]
  },
  {
   "cell_type": "code",
   "execution_count": 14,
   "metadata": {},
   "outputs": [],
   "source": [
    "#Bucando las frecuencias dominantes del espectro\n",
    "def buscar_frecuencias(senal,vfrecpos,tol):\n",
    "    #Buscando maximo globales\n",
    "    indice_max_global = where(senal == senal.max())\n",
    "    f_max_global = vfrecpos[indice_max_global]\n",
    "    #Definiendo un rango de tolerancia para comenzar a buscar otro maximo \n",
    "    # Buscaremos despues de f_max_global + tol y antes de f_max_global - tol\n",
    "    tolerancia_frec = tol\n",
    "    lim_sup_frec = f_max_global + tol\n",
    "    lim_inf_frec = f_max_global - tol\n",
    "    # Encontrando los indices del arrego de vfrecpos correspondientes a las frecuencias anteriores\n",
    "    indice_lim_sup = where(vfrecpos == lim_sup_frec)\n",
    "    indice_lim_inf = where(vfrecpos == lim_inf_frec)\n",
    "    # Convirtiendo los valores a numeros enteros para poder realizar slicing\n",
    "    indice_lim_sup = int(indice_lim_sup[0])\n",
    "    indice_lim_inf = int(indice_lim_inf[0])\n",
    "    # Encontramos el máximo de la región con indices 0:indice_lim_inf\n",
    "    indice_max_inf = where(senal[:indice_lim_inf] == max(senal[:indice_lim_inf]))\n",
    "    # y de la región con indices indice_lim_sup:end\n",
    "    indice_max_sup = where(senal[indice_lim_sup:] == max(senal[indice_lim_sup:]))\n",
    "    # note que a esta última región le tenemos que sumar el numero de indices recorridos ya\n",
    "    indice_max_sup = indice_max_sup[0] + indice_lim_sup\n",
    "    indice_max_inf = indice_max_inf[0]\n",
    "    # Ahora decidiremos cual es el valor máximo entre las regiones inferior y superior establecidas\n",
    "    # Encontramos el maximo relativo\n",
    "    if(senal[indice_max_sup] > senal[indice_max_inf]):\n",
    "        f_max_rel = vfrecpos[indice_max_sup]\n",
    "    else:\n",
    "        f_max_rel = vfrecpos[indice_max_inf]\n",
    "    # Finalmente decidimos que frecuencia es mas alta y mas baja para encontrar asi f1 y f2\n",
    "    if(f_max_global < f_max_rel):\n",
    "        f_1 = f_max_global\n",
    "        f_2 = f_max_rel\n",
    "    else:\n",
    "        f_1 = f_max_rel\n",
    "        f_2 = f_max_global\n",
    "    return f_1,f_2"
   ]
  },
  {
   "cell_type": "code",
   "execution_count": 15,
   "metadata": {},
   "outputs": [],
   "source": [
    "n = len(fft_senal)\n",
    "if(n%2 == 0):\n",
    "    lim = floor(n/2)\n",
    "else:\n",
    "    lim = floor(n/2) + 1\n",
    "vfrecpos = vfrec[0:int(lim)]"
   ]
  },
  {
   "cell_type": "code",
   "execution_count": 16,
   "metadata": {},
   "outputs": [
    {
     "output_type": "stream",
     "name": "stdout",
     "text": [
      "(array([8333.33333333]), array([10000.]))\n"
     ]
    }
   ],
   "source": [
    "print(buscar_frecuencias(amplitud_fft,vfrecpos,10))"
   ]
  },
  {
   "cell_type": "code",
   "execution_count": null,
   "metadata": {},
   "outputs": [],
   "source": []
  }
 ]
}